{
 "cells": [
  {
   "attachments": {},
   "cell_type": "markdown",
   "metadata": {},
   "source": [
    "## **Edit Mode** (press Enter to enable)\n",
    "- Ctrl-A : select all.\n",
    "- Ctrl Home : go to cell start.\n",
    "- Ctrl End : go to cell end.\n",
    "- Ctrl Left : go one word left.\n",
    "- Ctrl Right : go one word right.\n",
    "- Tab : code completion or indent\n",
    "- Shift-Tab : tooltip\n"
   ]
  },
  {
   "attachments": {},
   "cell_type": "markdown",
   "metadata": {},
   "source": [
    "- Ctrl-Z : undo\n",
    "- Ctrl-/ : comment\n",
    "- Ctrl-D : delete whole line"
   ]
  },
  {
   "attachments": {},
   "cell_type": "markdown",
   "metadata": {},
   "source": [
    "### **Command Mode** (press Esc to enable)\n",
    "- Up : select cell above\n",
    "- Down : select cell below\n",
    "- Shift-Enter : run cell, select below\n",
    "- Ctrl-Enter : run selected cells\n",
    "- Alt-Enter : run cell and insert below\n",
    "- A : insert cell above\n",
    "- B : insert cell below\n",
    "- X : cut selected cells\n",
    "- C : copy selected cells\n",
    "- V : paste cells below\n",
    "- F : find and replace\n",
    "- Y : change cell to code\n",
    "- M : change cell to markdown\n",
    "- 1 : change cell to heading 1\n",
    "- 2 : change cell to heading 2\n",
    "- 3 : change cell to heading 3\n",
    "- 4 : change cell to heading 4\n",
    "- 5 : change cell to heading 5\n",
    "- 6 : change cell to heading 6\n",
    "- L : toggle line numbers\n",
    "- H : show keyboard shortcuts\n",
    "- I,I : interrupt the kernel\n",
    "- 0,0 : restart the kernel (with dialog)\n",
    "\n"
   ]
  },
  {
   "attachments": {},
   "cell_type": "markdown",
   "metadata": {},
   "source": [
    "**Markdown** - облегчённый язык разметки, созданный с целью обозначения форматирования в простом тексте, с максимальным сохранением его читаемости человеком, и пригодный для машинного преобразования в языки для продвинутых публикаций."
   ]
  },
  {
   "attachments": {},
   "cell_type": "markdown",
   "metadata": {},
   "source": [
    "#  - это заголовки\n",
    "**жирный** \n",
    "__жирный__\n",
    "*курсив*\n",
    "_курсив_\n",
    "\n",
    "- список\n",
    "- список\n",
    "\n",
    "написание формул с помощью языка Latex\n",
    "чтобы написать формулу сначала строки и вконце ставим двойной знак доллара \n",
    "  $$ \\frac{1} {n} \\sum{x_ij} $$\n",
    "  "
   ]
  },
  {
   "attachments": {},
   "cell_type": "markdown",
   "metadata": {},
   "source": [
    "##### **Тэг HTML** - элемент языка разметки. Текст, содержащийся между начальным и конечным тегом, отображается и размещается в соответствии со свойствами, указанными в начальном теге."
   ]
  },
  {
   "attachments": {},
   "cell_type": "markdown",
   "metadata": {},
   "source": [
    "<img src= 'https://mobimg.b-cdn.net/v3/fetch/74/74739e1770f31cdbfdde99cc0b2925d3.jpeg?w=1470&r=0.5625'>\n",
    "<b>жирный</b> <br>\n",
    "<i> hello</i>\n",
    "<br> новая строка"
   ]
  },
  {
   "attachments": {},
   "cell_type": "markdown",
   "metadata": {},
   "source": [
    "*таблица*\n",
    "<table>\n",
    "    <tr>\n",
    "        <td> 1первый столбик </td>\n",
    "        <td> 1второй столбик </td>\n",
    "        <td> 1третий столбик </td>\n",
    "        <td> 1четвертый столбик </td>\n",
    "    </tr>\n",
    "    <tr>\n",
    "    <td> 2первый столбик </td>\n",
    "    <td> 2второй столбик </td>\n",
    "    <td> 2третий столбик </td>\n",
    "    <td> 2четвертый столбик </td>\n",
    "    </tr>\n",
    "<table/>"
   ]
  },
  {
   "attachments": {},
   "cell_type": "markdown",
   "metadata": {},
   "source": [
    "### **Словарь** - неупорядоченная структура данных, которая позволяет хранить пары «ключ — значение»."
   ]
  },
  {
   "cell_type": "code",
   "execution_count": 2,
   "metadata": {},
   "outputs": [
    {
     "data": {
      "text/plain": [
       "{'name': 'Jon', 'surname': 'Duv', 'age': 16}"
      ]
     },
     "execution_count": 2,
     "metadata": {},
     "output_type": "execute_result"
    }
   ],
   "source": [
    "client_data = {\n",
    "    'name': 'Jon',\n",
    "    'surname' : 'Duv',\n",
    "    'age' : 16\n",
    "}\n",
    "client_data"
   ]
  },
  {
   "cell_type": "code",
   "execution_count": 8,
   "metadata": {},
   "outputs": [
    {
     "data": {
      "text/plain": [
       "'Jon'"
      ]
     },
     "execution_count": 8,
     "metadata": {},
     "output_type": "execute_result"
    }
   ],
   "source": [
    "client_data['name']   # чтобы получить доступ к любому ключу словаря квадратные скобки"
   ]
  },
  {
   "cell_type": "code",
   "execution_count": 5,
   "metadata": {},
   "outputs": [
    {
     "ename": "KeyError",
     "evalue": "'key'",
     "output_type": "error",
     "traceback": [
      "\u001b[1;31m---------------------------------------------------------------------------\u001b[0m",
      "\u001b[1;31mKeyError\u001b[0m                                  Traceback (most recent call last)",
      "Cell \u001b[1;32mIn[5], line 1\u001b[0m\n\u001b[1;32m----> 1\u001b[0m client_data[\u001b[39m'\u001b[39;49m\u001b[39mkey\u001b[39;49m\u001b[39m'\u001b[39;49m] \u001b[39m# такого ключа нет\u001b[39;00m\n",
      "\u001b[1;31mKeyError\u001b[0m: 'key'"
     ]
    }
   ],
   "source": [
    "client_data['key'] # такого ключа нет"
   ]
  },
  {
   "cell_type": "code",
   "execution_count": 9,
   "metadata": {},
   "outputs": [],
   "source": [
    "client_data.get('key') # метод get позволяет безопасное извлечение по ключу, ошибок не будет"
   ]
  },
  {
   "cell_type": "code",
   "execution_count": 10,
   "metadata": {},
   "outputs": [
    {
     "data": {
      "text/plain": [
       "dict_keys(['name', 'surname', 'age'])"
      ]
     },
     "execution_count": 10,
     "metadata": {},
     "output_type": "execute_result"
    }
   ],
   "source": [
    "client_data.keys()"
   ]
  },
  {
   "cell_type": "code",
   "execution_count": 11,
   "metadata": {},
   "outputs": [
    {
     "data": {
      "text/plain": [
       "dict_values(['Jon', 'Duv', 16])"
      ]
     },
     "execution_count": 11,
     "metadata": {},
     "output_type": "execute_result"
    }
   ],
   "source": [
    "client_data.values()"
   ]
  },
  {
   "cell_type": "code",
   "execution_count": 12,
   "metadata": {},
   "outputs": [
    {
     "data": {
      "text/plain": [
       "dict_items([('name', 'Jon'), ('surname', 'Duv'), ('age', 16)])"
      ]
     },
     "execution_count": 12,
     "metadata": {},
     "output_type": "execute_result"
    }
   ],
   "source": [
    "client_data.items()"
   ]
  },
  {
   "cell_type": "code",
   "execution_count": 16,
   "metadata": {},
   "outputs": [
    {
     "name": "stdout",
     "output_type": "stream",
     "text": [
      "name : Jon\n",
      "surname : Duv\n",
      "age : 16\n"
     ]
    }
   ],
   "source": [
    "for k, v in client_data.items():\n",
    "    print(f\"{k} : {v}\")"
   ]
  },
  {
   "cell_type": "code",
   "execution_count": 18,
   "metadata": {},
   "outputs": [
    {
     "data": {
      "text/plain": [
       "{'name': 'Jon', 'surname': 'Duv', 'age': 16, 'height': 186}"
      ]
     },
     "execution_count": 18,
     "metadata": {},
     "output_type": "execute_result"
    }
   ],
   "source": [
    "client_data['height'] = 186   # добавление новых данных\n",
    "client_data"
   ]
  },
  {
   "cell_type": "code",
   "execution_count": 20,
   "metadata": {},
   "outputs": [
    {
     "data": {
      "text/plain": [
       "{'name': 'Jon', 'surname': 'Duv', 'age': 19, 'height': 186}"
      ]
     },
     "execution_count": 20,
     "metadata": {},
     "output_type": "execute_result"
    }
   ],
   "source": [
    "client_data['age'] = 19 # внесение изменений в данные\n",
    "client_data"
   ]
  },
  {
   "cell_type": "code",
   "execution_count": 24,
   "metadata": {},
   "outputs": [
    {
     "data": {
      "text/plain": [
       "{'name': 'Jon', 'surname': 'Duv', 'age': 19, 'height': 186}"
      ]
     },
     "execution_count": 24,
     "metadata": {},
     "output_type": "execute_result"
    }
   ],
   "source": [
    "# чтобы безопасно переписывать значения пользоваться методом setdefault.то есть запишется новое значение, только тогда , когда нет такого ключа с значением\n",
    "client_data.setdefault('age', 18)\n",
    "client_data"
   ]
  },
  {
   "cell_type": "code",
   "execution_count": 27,
   "metadata": {},
   "outputs": [
    {
     "data": {
      "text/plain": [
       "{'name': 'Jon', 'surname': 'Duv', 'age': 19, 'height': 186, 'dog': 'bim'}"
      ]
     },
     "execution_count": 27,
     "metadata": {},
     "output_type": "execute_result"
    }
   ],
   "source": [
    "client_data.update({   # метод добавления новых данных или перезапись данных\n",
    "    'dog' : 'bim'\n",
    "})\n",
    "client_data"
   ]
  },
  {
   "attachments": {},
   "cell_type": "markdown",
   "metadata": {},
   "source": [
    "**Вложенный словарь** -это словарь, содержащий другие словари"
   ]
  },
  {
   "cell_type": "code",
   "execution_count": 30,
   "metadata": {},
   "outputs": [
    {
     "data": {
      "text/plain": [
       "{'name': 'Jon',\n",
       " 'surname': 'Duv',\n",
       " 'age': 32,\n",
       " 'height': 186,\n",
       " 'dog': 'bim',\n",
       " 'body': {'heigt': 180, 'weigth': 80}}"
      ]
     },
     "execution_count": 30,
     "metadata": {},
     "output_type": "execute_result"
    }
   ],
   "source": [
    "client_data.update({\n",
    "    'age': 32,\n",
    "    'body' : {\n",
    "        'heigt': 180,\n",
    "        'weigth':80\n",
    "    }\n",
    "})\n",
    "client_data"
   ]
  },
  {
   "cell_type": "code",
   "execution_count": 31,
   "metadata": {},
   "outputs": [
    {
     "data": {
      "text/plain": [
       "{'heigt': 180, 'weigth': 80}"
      ]
     },
     "execution_count": 31,
     "metadata": {},
     "output_type": "execute_result"
    }
   ],
   "source": [
    "client_data['body']"
   ]
  },
  {
   "cell_type": "code",
   "execution_count": 32,
   "metadata": {},
   "outputs": [
    {
     "data": {
      "text/plain": [
       "180"
      ]
     },
     "execution_count": 32,
     "metadata": {},
     "output_type": "execute_result"
    }
   ],
   "source": [
    "client_data['body']['heigt']"
   ]
  }
 ],
 "metadata": {
  "kernelspec": {
   "display_name": "Python 3",
   "language": "python",
   "name": "python3"
  },
  "language_info": {
   "codemirror_mode": {
    "name": "ipython",
    "version": 3
   },
   "file_extension": ".py",
   "mimetype": "text/x-python",
   "name": "python",
   "nbconvert_exporter": "python",
   "pygments_lexer": "ipython3",
   "version": "3.10.11"
  },
  "orig_nbformat": 4
 },
 "nbformat": 4,
 "nbformat_minor": 2
}
